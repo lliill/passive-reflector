{
 "cells": [
  {
   "cell_type": "markdown",
   "metadata": {},
   "source": [
    "# Reflector imaging from ambient noise signals"
   ]
  },
  {
   "cell_type": "code",
   "execution_count": 10,
   "metadata": {},
   "outputs": [],
   "source": [
    "import numpy as np\n",
    "import matplotlib.pyplot as plt"
   ]
  },
  {
   "cell_type": "markdown",
   "metadata": {},
   "source": [
    "Position of the receivers, noise sources, and reflector."
   ]
  },
  {
   "cell_type": "code",
   "execution_count": 44,
   "metadata": {},
   "outputs": [],
   "source": [
    "# receivers\n",
    "x = np.empty((5,3))\n",
    "x[:, 1:] = [0, 100]\n",
    "for j in range(5):\n",
    "    x[j, 0] = -30 + 7.5*j\n",
    "\n",
    "# reflector\n",
    "z_r = np.array([65, 0, 65])\n",
    "    \n",
    "# noise sources\n",
    "N = 200\n",
    "y = np.random.uniform([-50, -10, 185], [50, 10, 200], (N,3))"
   ]
  },
  {
   "cell_type": "markdown",
   "metadata": {},
   "source": [
    "Visualizing the position of receivers, reflector and noise sources."
   ]
  },
  {
   "cell_type": "code",
   "execution_count": 119,
   "metadata": {},
   "outputs": [
    {
     "data": {
      "text/plain": [
       "Text(0, 0.5, 'x')"
      ]
     },
     "execution_count": 119,
     "metadata": {},
     "output_type": "execute_result"
    },
    {
     "data": {
      "image/png": "[encoded data removed]",
      "text/plain": [
       "<Figure size 432x288 with 1 Axes>"
      ]
     },
     "metadata": {
      "needs_background": "light"
     },
     "output_type": "display_data"
    }
   ],
   "source": [
    "plt.scatter(x[:, 2], x[:, 0], label='Receivers')\n",
    "plt.scatter(y[:, 2], y[:, 0], label='Noise sources')\n",
    "plt.scatter(z_r[2], z_r[0], label='Reflector')\n",
    "plt.legend()\n",
    "plt.xlabel('z')\n",
    "plt.ylabel('x')"
   ]
  },
  {
   "cell_type": "markdown",
   "metadata": {},
   "source": [
    "Parameters of the Green function"
   ]
  },
  {
   "cell_type": "code",
   "execution_count": 46,
   "metadata": {},
   "outputs": [],
   "source": [
    "# Born approximation parameters for Green's function\n",
    "c_0 = 1\n",
    "z_r = np.array([65, 0, 65])\n",
    "sigma_r = 1e-3"
   ]
  },
  {
   "cell_type": "markdown",
   "metadata": {},
   "source": [
    "Green functions: homogeneous solution and Born approximation"
   ]
  },
  {
   "cell_type": "code",
   "execution_count": 92,
   "metadata": {},
   "outputs": [],
   "source": [
    "# Green functions\n",
    "G_0_hat = lambda omega, x, y: np.exp(1j * omega / c_0 * np.linalg.norm(x - y)) / (4 * np.pi * np.linalg.norm(x - y))\n",
    "G_hat = lambda omega, x, y: G_0(omega, x, y) + sigma_r * omega**2 * G_0(omega, x, z_r) * G_0(omega, z_r, y)"
   ]
  },
  {
   "cell_type": "markdown",
   "metadata": {},
   "source": [
    "Noise sources: stationary zero-mean Gaussain process"
   ]
  },
  {
   "cell_type": "code",
   "execution_count": 93,
   "metadata": {},
   "outputs": [],
   "source": [
    "F_hat = lambda omega: np.exp(-omega**2)"
   ]
  },
  {
   "cell_type": "markdown",
   "metadata": {},
   "source": [
    "## Question 1"
   ]
  },
  {
   "cell_type": "markdown",
   "metadata": {},
   "source": [
    "The integral is estimated with a Riemann sum."
   ]
  },
  {
   "cell_type": "code",
   "execution_count": 94,
   "metadata": {},
   "outputs": [
    {
     "data": {
      "text/plain": [
       "1.5000000000001326"
      ]
     },
     "execution_count": 94,
     "metadata": {},
     "output_type": "execute_result"
    }
   ],
   "source": [
    "def riemann_sum(f, I):\n",
    "    \"\"\"\n",
    "    Integral of f on interval I\n",
    "    I is a linspace array\n",
    "    \"\"\"\n",
    "    dx = I[1] - I[0]\n",
    "    fx = [f(x) for x in I]\n",
    "#     print(fx[0])\n",
    "#     print(fx[I.shape[0]//2])\n",
    "    return dx * np.sum(fx[:-1] + fx[1:]) / 2\n",
    "\n",
    "f = lambda x: x\n",
    "I = np.linspace(1, 2, 1e3)\n",
    "riemann_sum(f, I)"
   ]
  },
  {
   "cell_type": "markdown",
   "metadata": {},
   "source": [
    "We use the equation (7) to express the empirical cross validation in the limit of $T >> 1$. The expression of the Green function is given by the Born approximation."
   ]
  },
  {
   "cell_type": "code",
   "execution_count": 144,
   "metadata": {},
   "outputs": [
    {
     "data": {
      "text/plain": [
       "0.0003687157835903634"
      ]
     },
     "execution_count": 144,
     "metadata": {},
     "output_type": "execute_result"
    }
   ],
   "source": [
    "def C_N(tau, i, j, max_omega=3):\n",
    "    sum = 0\n",
    "    omega_array = np.linspace(-max_omega, max_omega, 30)\n",
    "    for s in range(N):\n",
    "        f = lambda omega: F_hat(omega) * np.conj(G_hat(omega, x[i], y[s])) * G_hat(omega, x[j], y[s]) * np.exp(-1j * omega * tau)\n",
    "        sum += riemann_sum(f, omega_array)\n",
    "    return np.real(sum / (2 * np.pi * N))\n",
    "\n",
    "C_N(10, 4, 1)"
   ]
  },
  {
   "cell_type": "markdown",
   "metadata": {},
   "source": [
    "Compute empirical cross validation when $T >> 1$for several values of $\\tau$."
   ]
  },
  {
   "cell_type": "code",
   "execution_count": 145,
   "metadata": {},
   "outputs": [],
   "source": [
    "tau_array = np.linspace(-200, 200, 100)\n",
    "C_N_array = [C_N(tau, 4, 1) for tau in tau_array]"
   ]
  },
  {
   "cell_type": "code",
   "execution_count": 146,
   "metadata": {},
   "outputs": [
    {
     "data": {
      "text/plain": [
       "Text(0, 0.5, '$C_N(\\\\omega, x_5, x_1)$')"
      ]
     },
     "execution_count": 146,
     "metadata": {},
     "output_type": "execute_result"
    },
    {
     "data": {
      "image/png": "[encoded data removed]",
      "text/plain": [
       "<Figure size 432x288 with 1 Axes>"
      ]
     },
     "metadata": {
      "needs_background": "light"
     },
     "output_type": "display_data"
    }
   ],
   "source": [
    "plt.plot(tau_array, C_N_array)\n",
    "plt.xlabel(r'$\\tau$')\n",
    "plt.ylabel(r'$C_N(\\omega, x_5, x_1)$')"
   ]
  },
  {
   "cell_type": "markdown",
   "metadata": {},
   "source": [
    "Plotting the KM image."
   ]
  },
  {
   "cell_type": "code",
   "execution_count": 147,
   "metadata": {},
   "outputs": [
    {
     "data": {
      "text/plain": [
       "0.0019003886780364157"
      ]
     },
     "execution_count": 147,
     "metadata": {},
     "output_type": "execute_result"
    }
   ],
   "source": [
    "def I_N(y_S):\n",
    "    sum = 0\n",
    "    for j in range(x.shape[0]):\n",
    "        for l in range(x.shape[0]):\n",
    "            tau = np.linalg.norm(x[j] - y_S) + np.linalg.norm(y_S - x[l])\n",
    "            sum += C_N(tau, j, l)\n",
    "    return sum\n",
    "\n",
    "I_N(z_r)"
   ]
  },
  {
   "cell_type": "code",
   "execution_count": 150,
   "metadata": {},
   "outputs": [],
   "source": [
    "resolution = 5\n",
    "win_size = 20\n",
    "tx = np.linspace(z_r[0] - win_size / 2, z_r[0] + win_size / 2, resolution)\n",
    "tz = np.linspace(z_r[2] - win_size / 2, z_r[2] + win_size / 2, resolution)\n",
    "image = np.array([[I_N([tx, 0, tz]) for z in tz] for x in tx])"
   ]
  },
  {
   "cell_type": "code",
   "execution_count": 151,
   "metadata": {},
   "outputs": [
    {
     "data": {
      "text/plain": [
       "array([[0.00608608, 0.00608608, 0.00608608, 0.00608608, 0.00608608],\n",
       "       [0.00608608, 0.00608608, 0.00608608, 0.00608608, 0.00608608],\n",
       "       [0.00608608, 0.00608608, 0.00608608, 0.00608608, 0.00608608],\n",
       "       [0.00608608, 0.00608608, 0.00608608, 0.00608608, 0.00608608],\n",
       "       [0.00608608, 0.00608608, 0.00608608, 0.00608608, 0.00608608]])"
      ]
     },
     "execution_count": 151,
     "metadata": {},
     "output_type": "execute_result"
    }
   ],
   "source": [
    "image"
   ]
  },
  {
   "cell_type": "code",
   "execution_count": null,
   "metadata": {},
   "outputs": [],
   "source": []
  }
 ],
 "metadata": {
  "kernelspec": {
   "display_name": "Python 3",
   "language": "python",
   "name": "python3"
  },
  "language_info": {
   "codemirror_mode": {
    "name": "ipython",
    "version": 3
   },
   "file_extension": ".py",
   "mimetype": "text/x-python",
   "name": "python",
   "nbconvert_exporter": "python",
   "pygments_lexer": "ipython3",
   "version": "3.7.4"
  }
 },
 "nbformat": 4,
 "nbformat_minor": 4
}
