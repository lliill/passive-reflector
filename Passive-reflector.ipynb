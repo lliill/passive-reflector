{
 "cells": [
  {
   "cell_type": "markdown",
   "metadata": {},
   "source": [
    "# Reflector imaging from ambient noise signals"
   ]
  },
  {
   "cell_type": "code",
   "execution_count": 1,
   "metadata": {},
   "outputs": [],
   "source": [
    "import numpy as np\n",
    "import matplotlib.pyplot as plt"
   ]
  },
  {
   "cell_type": "markdown",
   "metadata": {},
   "source": [
    "Position of the receivers, noise sources, and reflector."
   ]
  },
  {
   "cell_type": "code",
   "execution_count": 2,
   "metadata": {},
   "outputs": [],
   "source": [
    "# receivers\n",
    "x = np.empty((5,3))\n",
    "x[:, 1:] = [0, 100]\n",
    "for j in range(5):\n",
    "    x[j, 0] = -30 + 7.5*j\n",
    "\n",
    "# reflector\n",
    "z_r = np.array([65, 0, 65])\n",
    "    \n",
    "# noise sources\n",
    "N = 200\n",
    "y = np.random.uniform([-50, -10, 185], [50, 10, 200], (N,3))"
   ]
  },
  {
   "cell_type": "markdown",
   "metadata": {},
   "source": [
    "Visualizing the position of receivers, reflector and noise sources."
   ]
  },
  {
   "cell_type": "code",
   "execution_count": 3,
   "metadata": {},
   "outputs": [
    {
     "data": {
      "text/plain": [
       "Text(0, 0.5, 'x')"
      ]
     },
     "execution_count": 3,
     "metadata": {},
     "output_type": "execute_result"
    },
    {
     "data": {
      "image/png": "[encoded data removed]",
      "text/plain": [
       "<Figure size 432x288 with 1 Axes>"
      ]
     },
     "metadata": {
      "needs_background": "light"
     },
     "output_type": "display_data"
    }
   ],
   "source": [
    "plt.scatter(x[:, 2], x[:, 0], label='Receivers')\n",
    "plt.scatter(y[:, 2], y[:, 0], label='Noise sources')\n",
    "plt.scatter(z_r[2], z_r[0], label='Reflector')\n",
    "plt.legend()\n",
    "plt.xlabel('z')\n",
    "plt.ylabel('x')"
   ]
  },
  {
   "cell_type": "markdown",
   "metadata": {},
   "source": [
    "Parameters of the Green function"
   ]
  },
  {
   "cell_type": "code",
   "execution_count": 4,
   "metadata": {},
   "outputs": [],
   "source": [
    "# Born approximation parameters for Green's function\n",
    "c_0 = 1\n",
    "z_r = np.array([65, 0, 65])\n",
    "sigma_r = 1e-3"
   ]
  },
  {
   "cell_type": "markdown",
   "metadata": {},
   "source": [
    "Green functions: homogeneous solution and Born approximation"
   ]
  },
  {
   "cell_type": "code",
   "execution_count": 5,
   "metadata": {},
   "outputs": [],
   "source": [
    "# Green functions\n",
    "G_0_hat = lambda omega, x, y: np.exp(1j * omega / c_0 * np.linalg.norm(x - y)) / (4 * np.pi * np.linalg.norm(x - y))\n",
    "G_hat = lambda omega, x, y: G_0_hat(omega, x, y) + sigma_r * omega**2 * G_0_hat(omega, x, z_r) * G_0_hat(omega, z_r, y)"
   ]
  },
  {
   "cell_type": "markdown",
   "metadata": {},
   "source": [
    "Noise sources: stationary zero-mean Gaussain process"
   ]
  },
  {
   "cell_type": "code",
   "execution_count": 6,
   "metadata": {},
   "outputs": [],
   "source": [
    "F_hat = lambda omega: np.exp(-omega**2)"
   ]
  },
  {
   "cell_type": "markdown",
   "metadata": {},
   "source": [
    "## Question 1"
   ]
  },
  {
   "cell_type": "markdown",
   "metadata": {},
   "source": [
    "The integral is estimated with a Riemann sum."
   ]
  },
  {
   "cell_type": "code",
   "execution_count": 7,
   "metadata": {},
   "outputs": [
    {
     "data": {
      "text/plain": [
       "1.5000000000001326"
      ]
     },
     "execution_count": 7,
     "metadata": {},
     "output_type": "execute_result"
    }
   ],
   "source": [
    "def riemann_sum(f, I):\n",
    "    \"\"\"\n",
    "    Integral of f on interval I\n",
    "    I is a linspace array\n",
    "    \"\"\"\n",
    "    dx = I[1] - I[0]\n",
    "    fx = [f(x) for x in I]\n",
    "    return dx * np.sum(fx[:-1] + fx[1:]) / 2\n",
    "\n",
    "f = lambda x: x\n",
    "I = np.linspace(1, 2, 1e3)\n",
    "riemann_sum(f, I)"
   ]
  },
  {
   "cell_type": "markdown",
   "metadata": {},
   "source": [
    "We use the equation (7) to express the empirical cross validation in the limit of $T >> 1$. The expression of the Green function is given by the Born approximation."
   ]
  },
  {
   "cell_type": "code",
   "execution_count": 8,
   "metadata": {},
   "outputs": [
    {
     "data": {
      "text/plain": [
       "2.7927967405069585e-08"
      ]
     },
     "execution_count": 8,
     "metadata": {},
     "output_type": "execute_result"
    }
   ],
   "source": [
    "def C_N(tau, i, j, max_omega=5):\n",
    "    sum = 0\n",
    "    omega_array = np.linspace(-max_omega, max_omega, 100)\n",
    "    for s in range(N):\n",
    "        f = lambda omega: F_hat(omega) * np.conj(G_hat(omega, x[i], y[s])) * G_hat(omega, x[j], y[s]) * np.exp(-1j * omega * tau)\n",
    "        sum += riemann_sum(f, omega_array)\n",
    "    return np.real(sum / (2 * np.pi * N))\n",
    "\n",
    "C_N(10, 4, 1)"
   ]
  },
  {
   "cell_type": "markdown",
   "metadata": {},
   "source": [
    "We introduce a fast version for computing the empirical cross validation by precomputing all the values of the Green function."
   ]
  },
  {
   "cell_type": "code",
   "execution_count": 9,
   "metadata": {},
   "outputs": [
    {
     "data": {
      "text/plain": [
       "(5, 200, 200)"
      ]
     },
     "execution_count": 9,
     "metadata": {},
     "output_type": "execute_result"
    }
   ],
   "source": [
    "def compute_green_hat(omega_array):\n",
    "    green_hat = np.zeros((x.shape[0], y.shape[0], omega_array.shape[0]), dtype=complex)\n",
    "    for i in range(x.shape[0]):\n",
    "        for s in range(y.shape[0]):\n",
    "            green_hat[i, s] = np.array([G_hat(omega, x[i], y[s]) for omega in omega_array], dtype=complex)\n",
    "    return green_hat\n",
    "\n",
    "omega_array = np.linspace(-10, 10, 200)\n",
    "green_hat = compute_green_hat(omega_array)\n",
    "green_hat.shape"
   ]
  },
  {
   "cell_type": "code",
   "execution_count": 10,
   "metadata": {},
   "outputs": [
    {
     "data": {
      "text/plain": [
       "2.7927966223973795e-08"
      ]
     },
     "execution_count": 10,
     "metadata": {},
     "output_type": "execute_result"
    }
   ],
   "source": [
    "def C_N_fast(tau, i, j, omega_array, green_hat):\n",
    "    sum = 0\n",
    "    F_hat_eitau_omega = np.array([F_hat(omega) * np.exp(-1j * omega * tau) for omega in omega_array])\n",
    "    for s in range(N):\n",
    "        f = F_hat_eitau_omega * np.conj(green_hat[i, s]) * green_hat[j, s]\n",
    "        sum += np.trapz(f, omega_array)\n",
    "    return np.real(sum / (2 * np.pi * N))\n",
    "\n",
    "C_N_fast(10, 4, 1, omega_array, green_hat)"
   ]
  },
  {
   "cell_type": "markdown",
   "metadata": {},
   "source": [
    "Compute empirical cross validation when $T >> 1$for several values of $\\tau$."
   ]
  },
  {
   "cell_type": "code",
   "execution_count": 11,
   "metadata": {},
   "outputs": [],
   "source": [
    "tau_array = np.linspace(-200, 200, 100)\n",
    "C_N_array = [C_N_fast(tau, 4, 1, omega_array, green_hat) for tau in tau_array]"
   ]
  },
  {
   "cell_type": "code",
   "execution_count": 12,
   "metadata": {},
   "outputs": [
    {
     "data": {
      "text/plain": [
       "Text(0, 0.5, '$C_N(\\\\omega, x_5, x_1)$')"
      ]
     },
     "execution_count": 12,
     "metadata": {},
     "output_type": "execute_result"
    },
    {
     "data": {
      "image/png": "[encoded data removed]",
      "text/plain": [
       "<Figure size 432x288 with 1 Axes>"
      ]
     },
     "metadata": {
      "needs_background": "light"
     },
     "output_type": "display_data"
    }
   ],
   "source": [
    "plt.plot(tau_array, C_N_array)\n",
    "plt.xlabel(r'$\\tau$')\n",
    "plt.ylabel(r'$C_N(\\omega, x_5, x_1)$')"
   ]
  },
  {
   "cell_type": "markdown",
   "metadata": {},
   "source": [
    "Plotting the KM image."
   ]
  },
  {
   "cell_type": "code",
   "execution_count": 13,
   "metadata": {},
   "outputs": [
    {
     "data": {
      "text/plain": [
       "-3.4346847496062257e-07"
      ]
     },
     "execution_count": 13,
     "metadata": {},
     "output_type": "execute_result"
    }
   ],
   "source": [
    "def I_N(y_S, omega_array, green_hat):\n",
    "    sum = 0\n",
    "    for j in range(x.shape[0]):\n",
    "        for l in range(x.shape[0]):\n",
    "            tau = np.linalg.norm(x[j] - y_S) + np.linalg.norm(y_S - x[l])\n",
    "            sum += C_N_fast(tau, j, l, omega_array, green_hat)\n",
    "    return sum\n",
    "\n",
    "I_N(z_r, omega_array, green_hat)"
   ]
  },
  {
   "cell_type": "code",
   "execution_count": null,
   "metadata": {},
   "outputs": [],
   "source": [
    "res = 30\n",
    "win_size = 20\n",
    "tx = np.linspace(z_r[0] - win_size / 2, z_r[0] + win_size / 2, res)\n",
    "tz = np.linspace(z_r[2] - win_size / 2, z_r[2] + win_size / 2, res)\n",
    "image = np.array([[I_N([x, 0, z], omega_array, green_hat) for z in tz] for x in tx])"
   ]
  },
  {
   "cell_type": "code",
   "execution_count": null,
   "metadata": {},
   "outputs": [],
   "source": [
    "plt.imshow(image, extent=[np.min(tz), np.max(tz), np.max(tx), np.min(tx)])\n",
    "plt.colorbar()\n",
    "plt.xlabel('z')\n",
    "plt.ylabel('x')\n",
    "plt.scatter(z_r[2], z_r[0], color='r', label='Reflector')\n",
    "plt.legend(loc=3)"
   ]
  },
  {
   "cell_type": "code",
   "execution_count": null,
   "metadata": {},
   "outputs": [],
   "source": []
  }
 ],
 "metadata": {
  "kernelspec": {
   "display_name": "Python 3",
   "language": "python",
   "name": "python3"
  },
  "language_info": {
   "codemirror_mode": {
    "name": "ipython",
    "version": 3
   },
   "file_extension": ".py",
   "mimetype": "text/x-python",
   "name": "python",
   "nbconvert_exporter": "python",
   "pygments_lexer": "ipython3",
   "version": "3.7.4"
  }
 },
 "nbformat": 4,
 "nbformat_minor": 4
}
