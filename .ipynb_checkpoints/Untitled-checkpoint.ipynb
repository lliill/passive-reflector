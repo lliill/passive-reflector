{
 "cells": [
  {
   "cell_type": "code",
   "execution_count": 5,
   "metadata": {},
   "outputs": [],
   "source": [
    "import numpy as np\n",
    "\n",
    "# receivers\n",
    "x = np.empty((5,3))\n",
    "x[:, 1:] = [0, 100]\n",
    "for j in range(5):\n",
    "    x[j, 0] = -30 + 7.5*j\n",
    "    \n",
    "# noise sources\n",
    "y = np.random.uniform([-50, -10, 185], [50, 10, 200], (200,3))\n",
    "\n",
    "# Born approximation parameters for Green's function\n",
    "c_0 = 1\n",
    "z_r = np.array([65, 0, 65])\n",
    "sigma_r = 1e-3"
   ]
  },
  {
   "cell_type": "code",
   "execution_count": 10,
   "metadata": {},
   "outputs": [
    {
     "data": {
      "text/plain": [
       "array([[-45.86241642,   5.87943486, 194.17030411],\n",
       "       [-34.61642812,  -6.92796144, 195.54624332],\n",
       "       [-16.04446357,  -5.05822869, 186.31950029],\n",
       "       [ 13.24528244,   9.94791824, 192.93848312],\n",
       "       [-21.93023779,   3.64145055, 190.06215299]])"
      ]
     },
     "execution_count": 10,
     "metadata": {},
     "output_type": "execute_result"
    }
   ],
   "source": [
    "np.random.uniform([-50, -10, 185], [50, 10, 200], (200,3))"
   ]
  },
  {
   "cell_type": "code",
   "execution_count": null,
   "metadata": {},
   "outputs": [],
   "source": []
  }
 ],
 "metadata": {
  "kernelspec": {
   "display_name": "Python 3",
   "language": "python",
   "name": "python3"
  },
  "language_info": {
   "codemirror_mode": {
    "name": "ipython",
    "version": 3
   },
   "file_extension": ".py",
   "mimetype": "text/x-python",
   "name": "python",
   "nbconvert_exporter": "python",
   "pygments_lexer": "ipython3",
   "version": "3.7.4"
  }
 },
 "nbformat": 4,
 "nbformat_minor": 4
}
